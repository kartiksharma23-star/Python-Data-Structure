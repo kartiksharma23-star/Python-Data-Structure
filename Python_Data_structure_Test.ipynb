{
  "nbformat": 4,
  "nbformat_minor": 0,
  "metadata": {
    "colab": {
      "provenance": []
    },
    "kernelspec": {
      "name": "python3",
      "display_name": "Python 3"
    },
    "language_info": {
      "name": "python"
    }
  },
  "cells": [
    {
      "cell_type": "markdown",
      "source": [
        "Q1. What are data structures, and why are they important\n"
      ],
      "metadata": {
        "id": "8TR0Uqc9s9Ds"
      }
    },
    {
      "cell_type": "markdown",
      "source": [
        "Ans.1 The data strcutur are use for the organisng the data into structure form so that we can access them essaly"
      ],
      "metadata": {
        "id": "gWNt51ostZfU"
      }
    },
    {
      "cell_type": "markdown",
      "source": [
        "Q2.  Explain the difference between mutable and immutable data types with examples"
      ],
      "metadata": {
        "id": "pnvbUuSNta6c"
      }
    },
    {
      "cell_type": "markdown",
      "source": [
        "Ans.2 mutable and immutbale are data type where you can change the data type after run them and immutable are data type were we can not change the data type"
      ],
      "metadata": {
        "id": "pFjzlxlXtfDk"
      }
    },
    {
      "cell_type": "markdown",
      "source": [
        "Q3. What are the main differences between lists and tuples in Python\n",
        "\n"
      ],
      "metadata": {
        "id": "dSenvgMatxQH"
      }
    },
    {
      "cell_type": "markdown",
      "source": [
        "Ans. 3 The different between the lists and tuples are to deffine the list we have to use the [] and for the tuple we have to use the () and list are mutable and tuple are immutable."
      ],
      "metadata": {
        "id": "h119lVTJt46X"
      }
    },
    {
      "cell_type": "markdown",
      "source": [
        "Q4. Describe how dictionaries store data"
      ],
      "metadata": {
        "id": "hw3cyRRUuTih"
      }
    },
    {
      "cell_type": "markdown",
      "source": [
        "Ans 4. Dictionaries store the data into key value pair in the differnt string and variable"
      ],
      "metadata": {
        "id": "UvqML2V8uZ7h"
      }
    },
    {
      "cell_type": "markdown",
      "source": [
        "Q5. Why might you use a set instead of a list in Python?"
      ],
      "metadata": {
        "id": "77LybVpqurOY"
      }
    },
    {
      "cell_type": "markdown",
      "source": [
        "Ans.5 We often use the set instead of list because of the sets have uniqure propertary that sets automaticly not take the duplicate value where as lists take"
      ],
      "metadata": {
        "id": "ieikepyGHYm_"
      }
    },
    {
      "cell_type": "markdown",
      "source": [
        "Q6. What is a string in Python, and how is it different from a list?"
      ],
      "metadata": {
        "id": "bcxty6bUHqE-"
      }
    },
    {
      "cell_type": "markdown",
      "source": [
        "Ans6. strings is a seqance of character that represnt and mainpulate data\n",
        "list donot have the unique value where as strings has and strings are used in the list"
      ],
      "metadata": {
        "id": "yC_c5HFHHuQt"
      }
    },
    {
      "cell_type": "markdown",
      "source": [
        "Q7. How do tuples ensure data integrity in Python?"
      ],
      "metadata": {
        "id": "wQ7OV5FmITHv"
      }
    },
    {
      "cell_type": "markdown",
      "source": [
        "Ans 07. In Python, tuples help ensure data integrity because they are immutable, meaning once they are created, their values cannot be changed."
      ],
      "metadata": {
        "id": "afxugdh6IfB9"
      }
    },
    {
      "cell_type": "markdown",
      "source": [
        "Q8. What is a hash table, and how does it relate to dictionaries in Python?"
      ],
      "metadata": {
        "id": "ZXE8VOS9Iho6"
      }
    },
    {
      "cell_type": "markdown",
      "source": [
        "Ans 8. A hash table is a data structure that stores data in an associative manner. It maps keys to values using a hash function, which computes an index (or hash) where the value associated with the key is stored."
      ],
      "metadata": {
        "id": "Pv4rCEdeInEj"
      }
    },
    {
      "cell_type": "markdown",
      "source": [
        "Q9.  Can lists contain different data types in Python?"
      ],
      "metadata": {
        "id": "KJoGeLtTI3JK"
      }
    },
    {
      "cell_type": "markdown",
      "source": [
        "Ans. 09 Yes, list can contain the differnt type of the data types"
      ],
      "metadata": {
        "id": "pRC3b0_AI6ph"
      }
    },
    {
      "cell_type": "markdown",
      "source": [
        "Q10. Explain why strings are immutable in Python?"
      ],
      "metadata": {
        "id": "M1x8fZz8JgwJ"
      }
    },
    {
      "cell_type": "markdown",
      "source": [
        "Ans. 10 In Python, strings are immutable because this design choice has several important benefits related to efficiency, safety, and ease of use"
      ],
      "metadata": {
        "id": "HiL9EhLoJSOy"
      }
    },
    {
      "cell_type": "markdown",
      "source": [
        "Q 11. What advantages do dictionaries offer over lists for certain tasks?\n"
      ],
      "metadata": {
        "id": "YEKXRrs3Jmsi"
      }
    },
    {
      "cell_type": "markdown",
      "source": [
        "Ans. 11 Dictionaries in Python offer several key advantages over lists for certain tasks, particularly when dealing with associative data, fast lookups, and managing key-value pairs"
      ],
      "metadata": {
        "id": "1PIbKS5vJu8H"
      }
    },
    {
      "cell_type": "markdown",
      "source": [
        "Q12. Describe a scenario where using a tuple would be preferable over a list?"
      ],
      "metadata": {
        "id": "MiCOeE1nJ4av"
      }
    },
    {
      "cell_type": "markdown",
      "source": [
        "Ans. 12 lets take the example of the  office empolye data where you want to store the data of the current empolye and if you use the list they are mutable and they can easly manuplited for this we will use the tuple"
      ],
      "metadata": {
        "id": "gYzlnnYOKPmf"
      }
    },
    {
      "cell_type": "markdown",
      "source": [
        "Q13. How do sets handle duplicate values in Python?"
      ],
      "metadata": {
        "id": "CQRVGBj1Katw"
      }
    },
    {
      "cell_type": "markdown",
      "source": [
        "Ans. 13 the sets use the duplicate value very easly and it dont take the previous value if you have written in the same pair and sets certanly use only one varible for the same."
      ],
      "metadata": {
        "id": "UeCH9ZK_KfNG"
      }
    },
    {
      "cell_type": "markdown",
      "source": [
        "Q14. How does the “in” keyword work differently for lists and dictionaries?"
      ],
      "metadata": {
        "id": "KFdj3xWRKzqg"
      }
    },
    {
      "cell_type": "markdown",
      "source": [
        "Ans. 14 in keyword use in that way he gets the into variable which we have assigne to in keyword"
      ],
      "metadata": {
        "id": "Wx3DDzWlK4Pn"
      }
    },
    {
      "cell_type": "markdown",
      "source": [
        "Q15.  Can you modify the elements of a tuple? Explain why or why not?"
      ],
      "metadata": {
        "id": "s7DCu4bTLEj3"
      }
    },
    {
      "cell_type": "markdown",
      "source": [
        "Ans 15. No, we can not change the elements of the tuple because they are immutbale and they have fix elements in it."
      ],
      "metadata": {
        "id": "Vj9hVECrLJiE"
      }
    },
    {
      "cell_type": "markdown",
      "source": [
        "Q16. What is a nested dictionary, and give an example of its use case?"
      ],
      "metadata": {
        "id": "4ClQx7ZTLZWr"
      }
    },
    {
      "cell_type": "markdown",
      "source": [
        "Ans. 16 A nested dictionary in Python is a dictionary where the value associated with a key can itself be another dictionary. This allows you to create complex, hierarchical data structures. Nested dictionaries are useful when you need to represent data with multiple levels of relationships or categories"
      ],
      "metadata": {
        "id": "qCRXKbitLcW1"
      }
    },
    {
      "cell_type": "markdown",
      "source": [
        "Q 17.  Describe the time complexity of accessing elements in a dictionary?"
      ],
      "metadata": {
        "id": "S3lkKvURLmKc"
      }
    },
    {
      "cell_type": "markdown",
      "source": [
        "Ans. 17 The time complexity of accessing elements in a Python dictionary is generally O(1), also known as constant time. This means that the time required to access an element in a dictionary does not depend on the number of elements in the dictionary.\n",
        "The time complexity of accessing elements in a Python dictionary is generally O(1), also known as constant time. This means that the time required to access an element in a dictionary does not depend on the number of elements in the dictionary."
      ],
      "metadata": {
        "id": "a0ZnTYWPLwPq"
      }
    },
    {
      "cell_type": "markdown",
      "source": [
        "Q18.  In what situations are lists preferred over dictionaries?"
      ],
      "metadata": {
        "id": "TuSfEWXqL8gL"
      }
    },
    {
      "cell_type": "markdown",
      "source": [
        "Ans. 18 the lists are stred in a line where as dictionaries are stroed in key value pair so if you want to have mix of data type then you have to use the list because in dictionaries there are only few data type allow."
      ],
      "metadata": {
        "id": "7cP0pOVuMBNb"
      }
    },
    {
      "cell_type": "markdown",
      "source": [
        "Q19. Why are dictionaries considered unordered, and how does that affect data retrieval."
      ],
      "metadata": {
        "id": "jz3B0ibGMZO4"
      }
    },
    {
      "cell_type": "markdown",
      "source": [
        "Ans. 19 In Python, dictionaries are considered unordered data structures, meaning that the items stored in a dictionary do not have a fixed order. This is in contrast to lists or tuples, which maintain the order of elements based on their insertion sequence. However, it's important to understand why dictionaries are unordered and how this affects data retrieva."
      ],
      "metadata": {
        "id": "la-3UoJbMnJI"
      }
    },
    {
      "cell_type": "markdown",
      "source": [
        "Q20. Explain the difference between a list and a dictionary in terms of data retrieva"
      ],
      "metadata": {
        "id": "V97i_P1LMpk3"
      }
    },
    {
      "cell_type": "markdown",
      "source": [
        "Ans.20 A list in Python is an ordered collection accessed by index (e.g., my_list[0]), making it ideal for positional data. In contrast, a dictionary is an unordered collection accessed by key (e.g., my_dict['key']), making it perfect for storing key-value pairs where fast lookups by key are required. Both have average O(1) time complexity for data retrieval, but they serve different purpose"
      ],
      "metadata": {
        "id": "0OfbmRa0M8YY"
      }
    },
    {
      "cell_type": "markdown",
      "source": [
        "Practical Question\n"
      ],
      "metadata": {
        "id": "cfaU_xhmNHtf"
      }
    },
    {
      "cell_type": "markdown",
      "source": [
        "Q1. Write a code to create a string with your name and print it?"
      ],
      "metadata": {
        "id": "UP0H0UtiNWEB"
      }
    },
    {
      "cell_type": "code",
      "source": [
        "name = \"kartik sharma \"# This is the string stored in the variable name"
      ],
      "metadata": {
        "id": "YAO_e9H1Nb-f"
      },
      "execution_count": null,
      "outputs": []
    },
    {
      "cell_type": "markdown",
      "source": [
        "Q2. P Write a code to find the length of the string \"Hello World\"?"
      ],
      "metadata": {
        "id": "0IYHREMTNjD3"
      }
    },
    {
      "cell_type": "code",
      "source": [
        "print(len(\"Hello World\"))# printing the lenght of the hello world\n"
      ],
      "metadata": {
        "colab": {
          "base_uri": "https://localhost:8080/"
        },
        "id": "N2Z83u7INpvd",
        "outputId": "24fee44e-fc26-42f6-c833-b981548d1f79"
      },
      "execution_count": 1,
      "outputs": [
        {
          "output_type": "stream",
          "name": "stdout",
          "text": [
            "11\n"
          ]
        }
      ]
    },
    {
      "cell_type": "markdown",
      "source": [
        "Q3. Write a code to slice the first 3 characters from the string \"Python Programming\"?"
      ],
      "metadata": {
        "id": "SnnYQQWON-t7"
      }
    },
    {
      "cell_type": "code",
      "source": [
        "string = \"Python Programming\"\n",
        "sliced_string = string[:3]\n",
        "print(sliced_string)"
      ],
      "metadata": {
        "colab": {
          "base_uri": "https://localhost:8080/"
        },
        "id": "IRDt2YtzONUe",
        "outputId": "5cf8f63d-638b-4865-8287-5f63690980da"
      },
      "execution_count": 2,
      "outputs": [
        {
          "output_type": "stream",
          "name": "stdout",
          "text": [
            "Pyt\n"
          ]
        }
      ]
    },
    {
      "cell_type": "markdown",
      "source": [
        "Q4. Write a code to convert the string \"hello\" to uppercase?"
      ],
      "metadata": {
        "id": "fU-_CE5rOF7N"
      }
    },
    {
      "cell_type": "code",
      "source": [
        "\"hell0\"\n",
        "string = \"hello\"\n",
        "string.upper()# is this h will automaticly will be uper case"
      ],
      "metadata": {
        "id": "gIrrujBhOc8k"
      },
      "execution_count": null,
      "outputs": []
    },
    {
      "cell_type": "code",
      "source": [
        "#Q5. Write a code to replace the word \"apple\" with \"orange\" in the string \"I like apple\"\n",
        "string = \"I like apple\"\n",
        "string = string[:7] + \"orange\"\n",
        "print(string)"
      ],
      "metadata": {
        "colab": {
          "base_uri": "https://localhost:8080/"
        },
        "id": "2OvJZ_pWOmrj",
        "outputId": "ad415d66-1f3e-42fd-9afc-6475ba69bbfb"
      },
      "execution_count": 5,
      "outputs": [
        {
          "output_type": "stream",
          "name": "stdout",
          "text": [
            "I like orange\n"
          ]
        }
      ]
    },
    {
      "cell_type": "code",
      "source": [
        "#Q 06 Write a code to create a list with numbers 1 to 5 and print it?\n",
        "my_bag = [1, 2, 3,4]\n",
        "type(my_bag)"
      ],
      "metadata": {
        "colab": {
          "base_uri": "https://localhost:8080/"
        },
        "id": "CeRdQMLSO-N1",
        "outputId": "f0aa73f4-7dde-4c81-d845-c510d9821d39"
      },
      "execution_count": 6,
      "outputs": [
        {
          "output_type": "execute_result",
          "data": {
            "text/plain": [
              "list"
            ]
          },
          "metadata": {},
          "execution_count": 6
        }
      ]
    },
    {
      "cell_type": "code",
      "source": [
        "print(my_bag)"
      ],
      "metadata": {
        "colab": {
          "base_uri": "https://localhost:8080/"
        },
        "id": "4C8wU9cTPzmF",
        "outputId": "198dc479-3c3c-4335-a984-442f82ad381b"
      },
      "execution_count": 7,
      "outputs": [
        {
          "output_type": "stream",
          "name": "stdout",
          "text": [
            "[1, 2, 3, 4]\n"
          ]
        }
      ]
    },
    {
      "cell_type": "code",
      "source": [
        "#Q 07 Write a code to append the number 10 to the list [1, 2, 3, 4]?\n",
        "my_list = [1, 2, 3, 4]\n",
        "my_list.append(10)\n",
        "print(my_list)\n",
        ""
      ],
      "metadata": {
        "colab": {
          "base_uri": "https://localhost:8080/"
        },
        "id": "e8EnkJZMP2hM",
        "outputId": "3ff9f56d-d39f-4ace-85b7-f6bd192d86eb"
      },
      "execution_count": 9,
      "outputs": [
        {
          "output_type": "stream",
          "name": "stdout",
          "text": [
            "[1, 2, 3, 4, 10]\n"
          ]
        }
      ]
    },
    {
      "cell_type": "code",
      "source": [
        "#Q 08 Write a code to remove the number 3 from the list [1, 2, 3, 4, 5]?\n",
        "my_list = [1, 2, 3, 4, 5]\n",
        "my_list.remove(3)\n",
        "print(my_list)"
      ],
      "metadata": {
        "colab": {
          "base_uri": "https://localhost:8080/"
        },
        "id": "8N1YUwb2RCPH",
        "outputId": "811ed8f3-3b88-441c-adb7-adcb9d7b471b"
      },
      "execution_count": 10,
      "outputs": [
        {
          "output_type": "stream",
          "name": "stdout",
          "text": [
            "[1, 2, 4, 5]\n"
          ]
        }
      ]
    },
    {
      "cell_type": "code",
      "source": [
        "#Q 09 Write a code to access the second element in the list ['a', 'b', 'c', 'd']P\n",
        "my_list = ['a', 'b', 'c', 'd']\n",
        "my_list[1]\n"
      ],
      "metadata": {
        "colab": {
          "base_uri": "https://localhost:8080/",
          "height": 35
        },
        "id": "e8MXC6tLRTY0",
        "outputId": "e9c18dc5-d5bb-4455-83aa-e08d6812c80f"
      },
      "execution_count": 11,
      "outputs": [
        {
          "output_type": "execute_result",
          "data": {
            "text/plain": [
              "'b'"
            ],
            "application/vnd.google.colaboratory.intrinsic+json": {
              "type": "string"
            }
          },
          "metadata": {},
          "execution_count": 11
        }
      ]
    },
    {
      "cell_type": "code",
      "source": [
        "#Q 10 P Write a code to reverse the list [10, 20, 30, 40, 50].\n",
        "my_list = [10, 20, 30, 40, 50]\n",
        "my_list.reverse()\n",
        "print(my_list)\n"
      ],
      "metadata": {
        "colab": {
          "base_uri": "https://localhost:8080/"
        },
        "id": "wwUcuKEeRc-d",
        "outputId": "b7544e1f-fe23-4cd4-cd48-4c6b24764a27"
      },
      "execution_count": 12,
      "outputs": [
        {
          "output_type": "stream",
          "name": "stdout",
          "text": [
            "[50, 40, 30, 20, 10]\n"
          ]
        }
      ]
    },
    {
      "cell_type": "code",
      "source": [
        "#Q11. Write a code to create a tuple with the elements 100, 200, 300 and print it.\n",
        "kartik = (100, 200, 300)\n",
        "print(kartik)"
      ],
      "metadata": {
        "colab": {
          "base_uri": "https://localhost:8080/"
        },
        "id": "5GYDkUe4RjS2",
        "outputId": "b82035ad-3a7f-42ca-ad87-2e08ba3b56bd"
      },
      "execution_count": 13,
      "outputs": [
        {
          "output_type": "stream",
          "name": "stdout",
          "text": [
            "(100, 200, 300)\n"
          ]
        }
      ]
    },
    {
      "cell_type": "code",
      "source": [
        "#Q 12.  Write a code to access the second-to-last element of the tuple ('red', 'green', 'blue', 'yellow').\n",
        "my_tuple = ('red', 'green', 'blue', 'yellow')\n",
        "my_tuple[-2]"
      ],
      "metadata": {
        "colab": {
          "base_uri": "https://localhost:8080/",
          "height": 35
        },
        "id": "jO2V6CPyRty1",
        "outputId": "647e4137-500f-4f8d-8e01-8541a98442a3"
      },
      "execution_count": 14,
      "outputs": [
        {
          "output_type": "execute_result",
          "data": {
            "text/plain": [
              "'blue'"
            ],
            "application/vnd.google.colaboratory.intrinsic+json": {
              "type": "string"
            }
          },
          "metadata": {},
          "execution_count": 14
        }
      ]
    },
    {
      "cell_type": "code",
      "source": [
        "#Q 13. Write a code to find the minimum number in the tuple (10, 20, 5, 15)\n",
        "my_tuple = (10, 20, 5, 15)\n",
        "min(my_tuple)"
      ],
      "metadata": {
        "colab": {
          "base_uri": "https://localhost:8080/"
        },
        "id": "YuDWOqilR3Ms",
        "outputId": "9a2dae8b-e747-45e9-b231-eaa49e7105b4"
      },
      "execution_count": 15,
      "outputs": [
        {
          "output_type": "execute_result",
          "data": {
            "text/plain": [
              "5"
            ]
          },
          "metadata": {},
          "execution_count": 15
        }
      ]
    },
    {
      "cell_type": "code",
      "source": [
        "#Q14.  Write a code to find the index of the element \"cat\" in the tuple ('dog', 'cat', 'rabbit')\n",
        "Kartik = ('dog', 'cat', 'rabbit')\n",
        "Kartik.index(\"cat\")"
      ],
      "metadata": {
        "colab": {
          "base_uri": "https://localhost:8080/"
        },
        "id": "37MUmEqESPYC",
        "outputId": "c6cc3224-1da0-4aee-e4be-40064d838418"
      },
      "execution_count": 16,
      "outputs": [
        {
          "output_type": "execute_result",
          "data": {
            "text/plain": [
              "1"
            ]
          },
          "metadata": {},
          "execution_count": 16
        }
      ]
    },
    {
      "cell_type": "code",
      "source": [
        "#Q15. . Write a code to create a tuple containing three different fruits and check if \"kiwi\" is in it\n",
        "fruit_bag = ( \"kiwi\", \"orange\", \"apple\")\n",
        "if \"kiwi\" in fruit_bag:\n",
        "    print(\"yes\")\n",
        "else:\n",
        "    print(\"no\")"
      ],
      "metadata": {
        "colab": {
          "base_uri": "https://localhost:8080/"
        },
        "id": "jsm3-2J2SdMI",
        "outputId": "9e3b5cc5-9173-442c-b98a-5aa253b7dba5"
      },
      "execution_count": 17,
      "outputs": [
        {
          "output_type": "stream",
          "name": "stdout",
          "text": [
            "yes\n"
          ]
        }
      ]
    },
    {
      "cell_type": "code",
      "source": [
        "#Q16.  Write a code to create a set with the elements 'a', 'b', 'c' and print it\n",
        "my_set = {'a', 'b', 'c'}\n",
        "print(my_set)"
      ],
      "metadata": {
        "colab": {
          "base_uri": "https://localhost:8080/"
        },
        "id": "PLuJIKwJS0fn",
        "outputId": "4189a449-b42e-4a80-86d9-398f909624d1"
      },
      "execution_count": 2,
      "outputs": [
        {
          "output_type": "stream",
          "name": "stdout",
          "text": [
            "{'b', 'a', 'c'}\n"
          ]
        }
      ]
    },
    {
      "cell_type": "code",
      "source": [
        "# Q17. Write a code to clear all elements from the set {1, 2, 3, 4, 5}.\n",
        "my_set = {1, 2, 3, 4, 5}\n",
        "my_set.clear()\n",
        "print(my_set)"
      ],
      "metadata": {
        "colab": {
          "base_uri": "https://localhost:8080/"
        },
        "id": "DmevAtOpubfH",
        "outputId": "bf59f9b8-1fce-42a2-a674-cae8bed80049"
      },
      "execution_count": 4,
      "outputs": [
        {
          "output_type": "stream",
          "name": "stdout",
          "text": [
            "set()\n"
          ]
        }
      ]
    },
    {
      "cell_type": "code",
      "source": [
        "#Q 18.  Write a code to remove the element 4 from the set {1, 2, 3, 4}?\n",
        "my_set = {1, 2, 3, 4}\n",
        "my_set.remove(4)\n",
        "print(my_set)"
      ],
      "metadata": {
        "colab": {
          "base_uri": "https://localhost:8080/"
        },
        "id": "d38LpZDkuzF-",
        "outputId": "c8a9d2c0-8fd3-4dd8-fd16-9968e3f55c06"
      },
      "execution_count": 9,
      "outputs": [
        {
          "output_type": "stream",
          "name": "stdout",
          "text": [
            "{1, 2, 3}\n"
          ]
        }
      ]
    },
    {
      "cell_type": "code",
      "source": [
        "#Q19.  Write a code to find the union of two sets {1, 2, 3} and {3, 4, 5}.?\n",
        "set1 = {1, 2, 3}\n",
        "set2 = {3, 4, 5}\n",
        "\n",
        "# Using the union() method\n",
        "union_set = set1.union(set2)\n",
        "print(union_set)\n"
      ],
      "metadata": {
        "colab": {
          "base_uri": "https://localhost:8080/"
        },
        "id": "uqJv_eZyvCkU",
        "outputId": "594c01e2-fabf-4d41-a7fd-59a037128e78"
      },
      "execution_count": 10,
      "outputs": [
        {
          "output_type": "stream",
          "name": "stdout",
          "text": [
            "{1, 2, 3, 4, 5}\n"
          ]
        }
      ]
    },
    {
      "cell_type": "code",
      "source": [
        "#Q 20 Write a code to find the intersection of two sets {1, 2, 3} and {2, 3, 4}.\n",
        "set1 = {1, 2, 3}\n",
        "set2 = {2, 3, 4}\n",
        "\n",
        "# Using the intersection() method\n",
        "intersection_set = set1.intersection(set2)\n",
        "print(intersection_set)"
      ],
      "metadata": {
        "colab": {
          "base_uri": "https://localhost:8080/"
        },
        "id": "BjT46sorvs74",
        "outputId": "6e8abe49-78dc-4e5e-8145-d9bcdd0d2ba7"
      },
      "execution_count": 11,
      "outputs": [
        {
          "output_type": "stream",
          "name": "stdout",
          "text": [
            "{2, 3}\n"
          ]
        }
      ]
    },
    {
      "cell_type": "code",
      "source": [
        "# Q 21  Write a code to create a dictionary with the keys \"name\", \"age\", and \"city\", and print it\n",
        "my_details= { \"name\": \"kartik\", \"age\": 21, \"city\": \"jodhpur\"}"
      ],
      "metadata": {
        "id": "CBZlicOBv5X-"
      },
      "execution_count": 12,
      "outputs": []
    },
    {
      "cell_type": "code",
      "source": [
        "#Q 22  Write a code to add a new key-value pair \"country\": \"USA\" to the dictionary {'name': 'John', 'age': 25}.\n",
        "my_data= {'name': 'John', 'age': 25}\n",
        "my_data[\"country\"] = \"USA\"\n",
        "print(my_data)"
      ],
      "metadata": {
        "colab": {
          "base_uri": "https://localhost:8080/"
        },
        "id": "4GlKTl57wWll",
        "outputId": "49447a72-9dee-4bf1-fb73-9e3fbc27c7cb"
      },
      "execution_count": 1,
      "outputs": [
        {
          "output_type": "stream",
          "name": "stdout",
          "text": [
            "{'name': 'John', 'age': 25, 'country': 'USA'}\n"
          ]
        }
      ]
    },
    {
      "cell_type": "code",
      "source": [
        "#Q 23. Write a code to access the value associated with the key \"name\" in the dictionary {'name': 'Alice', 'age': 30}\n",
        "my_details = {\"name\":\"alice\", \"age\":30}\n",
        "my_details[\"name\"]\n"
      ],
      "metadata": {
        "colab": {
          "base_uri": "https://localhost:8080/",
          "height": 35
        },
        "id": "7fe38xO3hs1b",
        "outputId": "0e6a1ce8-ce48-418e-8cb9-a1aceeb72919"
      },
      "execution_count": 9,
      "outputs": [
        {
          "output_type": "execute_result",
          "data": {
            "text/plain": [
              "'alice'"
            ],
            "application/vnd.google.colaboratory.intrinsic+json": {
              "type": "string"
            }
          },
          "metadata": {},
          "execution_count": 9
        }
      ]
    },
    {
      "cell_type": "code",
      "source": [
        "# Q 24 Write a code to remove the key \"age\" from the dictionary {'name': 'Bob', 'age': 22, 'city': 'New York'}.\n",
        "detail_bag= {'name': 'Bob', 'age': 22, 'city': 'New York'}\n",
        "detail_bag.pop(\"age\")\n",
        "print(detail_bag)\n"
      ],
      "metadata": {
        "colab": {
          "base_uri": "https://localhost:8080/"
        },
        "id": "R1RMp9Wwighb",
        "outputId": "d9ae9dbd-6c4f-4253-a71c-ec61439da2ee"
      },
      "execution_count": 10,
      "outputs": [
        {
          "output_type": "stream",
          "name": "stdout",
          "text": [
            "{'name': 'Bob', 'city': 'New York'}\n"
          ]
        }
      ]
    },
    {
      "cell_type": "code",
      "source": [
        "# Q25.Write a code to check if the key \"city\" exists in the dictionary {'name': 'Alice', 'city': 'Paris'}.\n",
        "detail_bag= {'name': 'Alice', 'city': 'Paris'}\n",
        "if \"city\" in detail_bag:\n",
        "    print(\"yes\")\n",
        "else:\n",
        "    print(\"no\")"
      ],
      "metadata": {
        "colab": {
          "base_uri": "https://localhost:8080/"
        },
        "id": "8dgoJyf-jO-V",
        "outputId": "23f0820c-d9ad-4f63-c23a-c9d5c6123a9e"
      },
      "execution_count": 11,
      "outputs": [
        {
          "output_type": "stream",
          "name": "stdout",
          "text": [
            "yes\n"
          ]
        }
      ]
    },
    {
      "cell_type": "code",
      "source": [
        "#Q 26  Write a code to create a list, a tuple, and a dictionary, and print them all.\n",
        "detail_office= {'name': 'Alice', 'city': 'Paris'}\n",
        "detail= ['name','Alice', 'city','Paris']\n",
        "detail_bag= ('name', 'Alice', 'city', 'Paris')\n",
        "print(detail_bag)\n",
        "print(detail)\n",
        "print(detail_office)\n"
      ],
      "metadata": {
        "colab": {
          "base_uri": "https://localhost:8080/"
        },
        "id": "ylu5VMALkG2c",
        "outputId": "c0a7d89c-40f0-42d8-ce67-fd1ff25377b4"
      },
      "execution_count": 15,
      "outputs": [
        {
          "output_type": "stream",
          "name": "stdout",
          "text": [
            "('name', 'Alice', 'city', 'Paris')\n",
            "['name', 'Alice', 'city', 'Paris']\n",
            "{'name': 'Alice', 'city': 'Paris'}\n"
          ]
        }
      ]
    },
    {
      "cell_type": "code",
      "source": [
        "# Q27 Write a code to create a list of 5 random numbers between 1 and 100, sort it in ascending order, and print the\n",
        "# result.(replaced)\n",
        "import random\n",
        "random_list = [random.randint(1, 100) for _ in range(5)]\n",
        "random_list.sort()\n",
        "print(random_list)"
      ],
      "metadata": {
        "colab": {
          "base_uri": "https://localhost:8080/"
        },
        "id": "Ch9oPgcGkm91",
        "outputId": "34c2237e-341f-42f4-ac91-c681396e7044"
      },
      "execution_count": 16,
      "outputs": [
        {
          "output_type": "stream",
          "name": "stdout",
          "text": [
            "[13, 20, 47, 60, 89]\n"
          ]
        }
      ]
    },
    {
      "cell_type": "code",
      "source": [
        "# Q 28 Write a code to create a list with strings and print the element at the third index\n",
        "my_list = [\"apple\", \"banana\", \"cherry\", \"date\", \"elderberry\"]\n",
        "print(my_list[2])"
      ],
      "metadata": {
        "colab": {
          "base_uri": "https://localhost:8080/"
        },
        "id": "1-FWv01voBDk",
        "outputId": "bcadc8d8-422d-474d-ed89-460c6433fb0c"
      },
      "execution_count": 17,
      "outputs": [
        {
          "output_type": "stream",
          "name": "stdout",
          "text": [
            "cherry\n"
          ]
        }
      ]
    },
    {
      "cell_type": "code",
      "source": [
        "# 29.  Write a code to combine two dictionaries into one and print the result\n",
        "dict1 = {'a': 1, 'b': 2}\n",
        "dict2 = {'c': 3, 'd': 4}\n",
        "combined_dict = {**dict1, **dict2}\n",
        "print(combined_dict)"
      ],
      "metadata": {
        "colab": {
          "base_uri": "https://localhost:8080/"
        },
        "id": "dfEafOjIoHe9",
        "outputId": "55b7e4da-e928-4d17-9895-afc4c07201a2"
      },
      "execution_count": 18,
      "outputs": [
        {
          "output_type": "stream",
          "name": "stdout",
          "text": [
            "{'a': 1, 'b': 2, 'c': 3, 'd': 4}\n"
          ]
        }
      ]
    },
    {
      "cell_type": "code",
      "source": [
        "# Q 30 Write a code to convert a list of strings into a set\n",
        "my_list = [\"apple\", \"banana\", \"cherry\", \"date\", \"elderberry\"]\n",
        "my_set = set(my_list)\n",
        "print(my_set)"
      ],
      "metadata": {
        "colab": {
          "base_uri": "https://localhost:8080/"
        },
        "id": "mJmYWIAMokRe",
        "outputId": "4b5be596-c3b4-438d-b56b-a5bc98935676"
      },
      "execution_count": 19,
      "outputs": [
        {
          "output_type": "stream",
          "name": "stdout",
          "text": [
            "{'apple', 'cherry', 'elderberry', 'banana', 'date'}\n"
          ]
        }
      ]
    },
    {
      "cell_type": "code",
      "source": [],
      "metadata": {
        "id": "wISBImcYoqtV"
      },
      "execution_count": null,
      "outputs": []
    }
  ]
}